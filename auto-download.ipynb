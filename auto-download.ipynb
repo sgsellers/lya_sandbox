{
 "cells": [
  {
   "cell_type": "code",
   "execution_count": 9,
   "metadata": {
    "collapsed": false
   },
   "outputs": [],
   "source": [
    "#Ya know. For when you ruin your data, and just need to redownload all ~100 tiles.\n",
    "#Cause I'm dumb!\n",
    "import urllib.request\n",
    "import numpy as np\n",
    "\n",
    "good_ims = [\"014\",\"015\",\"016\",\"017\",\"018\",\"019\",\"020\",\"021\",\"026\",\"027\",\"028\",\"029\",\"030\",\"031\",\"032\",\"033\",\n",
    "           \"038\",\"039\",\"040\",\"041\",\"042\",\"043\",\"044\",\"045\",\"050\",\"051\",\"052\",\"053\",\"054\",\"055\",\"056\",\"057\",\n",
    "           \"062\",\"063\",\"064\",\"065\",\"066\",\"067\",\"068\",\"069\",\"074\",\"075\",\"076\",\"077\",\"078\",\"079\",\"080\",\"081\",\n",
    "           \"086\",\"087\",\"088\",\"089\",\"090\",\"091\",\"092\",\"093\",\"098\",\"099\",\"100\",\"101\",\"102\",\"103\",\"104\",\"105\",\n",
    "           \"110\",\"111\",\"112\",\"113\",\"114\",\"115\",\"116\",\"117\"]\n",
    "\n",
    "url = \"http://irsa.ipac.caltech.edu/data/COSMOS/images/subaru/original_psf/\"\n",
    "\n",
    "for i in good_ims:\n",
    "    urllib.request.urlretrieve(url + \"B/subaru_B_\"+i+\"_sci_20.fits\",\"subaru_B_\"+i+\"_sci_20.fits\")\n",
    "    urllib.request.urlretrieve(url + \"IB427/subaru_IB427_\"+i+\"_sci_10.fits\",\"subaru_IB427_\"+i+\"_sci_10.fits\")\n",
    "    \n"
   ]
  },
  {
   "cell_type": "code",
   "execution_count": null,
   "metadata": {
    "collapsed": true
   },
   "outputs": [],
   "source": []
  }
 ],
 "metadata": {
  "kernelspec": {
   "display_name": "Python 3",
   "language": "python",
   "name": "python3"
  },
  "language_info": {
   "codemirror_mode": {
    "name": "ipython",
    "version": 3
   },
   "file_extension": ".py",
   "mimetype": "text/x-python",
   "name": "python",
   "nbconvert_exporter": "python",
   "pygments_lexer": "ipython3",
   "version": "3.4.5"
  }
 },
 "nbformat": 4,
 "nbformat_minor": 0
}
