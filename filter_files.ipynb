{
 "cells": [
  {
   "cell_type": "code",
   "execution_count": 1,
   "metadata": {
    "collapsed": false
   },
   "outputs": [
    {
     "name": "stdout",
     "output_type": "stream",
     "text": [
      "Populating the interactive namespace from numpy and matplotlib\n"
     ]
    },
    {
     "name": "stderr",
     "output_type": "stream",
     "text": [
      "/home/sean/anaconda3/lib/python3.4/site-packages/IPython/kernel/__init__.py:13: ShimWarning: The `IPython.kernel` package has been deprecated. You should import from ipykernel or jupyter_client instead.\n",
      "  \"You should import from ipykernel or jupyter_client instead.\", ShimWarning)\n"
     ]
    }
   ],
   "source": [
    "%pylab inline\n",
    "from astropy.convolution import Tophat2DKernel,Gaussian2DKernel\n",
    "#Notebook outputs normalized filter files for SExtractor"
   ]
  },
  {
   "cell_type": "code",
   "execution_count": 9,
   "metadata": {
    "collapsed": false
   },
   "outputs": [
    {
     "name": "stdout",
     "output_type": "stream",
     "text": [
      "(21, 21)\n"
     ]
    },
    {
     "data": {
      "image/png": "[encoded data removed]",
      "text/plain": [
       "<matplotlib.figure.Figure at 0x7f6071c16fd0>"
      ]
     },
     "metadata": {},
     "output_type": "display_data"
    },
    {
     "name": "stdout",
     "output_type": "stream",
     "text": [
      "0.0\n"
     ]
    }
   ],
   "source": [
    "pix_rad = 10\n",
    "\n",
    "tophat_2D_kernel = Tophat2DKernel(pix_rad)\n",
    "\n",
    "int_array = np.array(tophat_2D_kernel)\n",
    "\n",
    "print(int_array.shape)\n",
    "\n",
    "full_array = np.zeros((len(int_array[0,:]),len(int_array[:,0])))\n",
    "\n",
    "i = 0\n",
    "\n",
    "while i < len(int_array):\n",
    "    full_array[i,:] = int_array[i][:]\n",
    "    i = i+1\n",
    "\n",
    "normalization = 1./np.amax(int_array)\n",
    "\n",
    "plt.imshow(tophat_2D_kernel, interpolation='none', origin='lower')\n",
    "plt.xlabel('x [pixels]')\n",
    "plt.ylabel('y [pixels]')\n",
    "plt.colorbar()\n",
    "plt.show()\n",
    "\n",
    "print(full_array[1,1])\n",
    "\n",
    "th = open(\"top_hat_\"+str(pix_rad)+\"pix\"+\".conv\",\"w\")\n",
    "\n",
    "th.write(\"CONV NORM\"+\"\\n\")\n",
    "\n",
    "\n",
    "\n",
    "for i in full_array:\n",
    "    for j in i:\n",
    "        th.write(str(\"{0:.8}\".format(str(j*normalization))).ljust(8,\"0\") + \" \")\n",
    "    th.write(\"\\n\")\n",
    "th.close()"
   ]
  },
  {
   "cell_type": "code",
   "execution_count": 8,
   "metadata": {
    "collapsed": false
   },
   "outputs": [
    {
     "data": {
      "image/png": "[encoded data removed]",
      "text/plain": [
       "<matplotlib.figure.Figure at 0x7f6071e9b588>"
      ]
     },
     "metadata": {},
     "output_type": "display_data"
    },
    {
     "name": "stdout",
     "output_type": "stream",
     "text": [
      "0.000728756116257\n",
      "0.039788735773\n"
     ]
    }
   ],
   "source": [
    "filter_size = 11\n",
    "\n",
    "FWHM = 2\n",
    "\n",
    "gauss_2D_kernel = Gaussian2DKernel(FWHM,x_size = filter_size,y_size=filter_size)\n",
    "\n",
    "int_array = np.array(gauss_2D_kernel)\n",
    "\n",
    "full_array = np.zeros((len(int_array[0,:]),len(int_array[:,0])))\n",
    "\n",
    "i = 0\n",
    "\n",
    "while i < len(int_array):\n",
    "    full_array[i,:] = int_array[i][:]\n",
    "    i = i+1\n",
    "\n",
    "normalization = 1./np.amax(int_array)    \n",
    "\n",
    "plt.imshow(gauss_2D_kernel, interpolation='none', origin='lower')\n",
    "plt.xlabel('x [pixels]')\n",
    "plt.ylabel('y [pixels]')\n",
    "plt.colorbar()\n",
    "plt.show()\n",
    "\n",
    "print(full_array[1,1])\n",
    "\n",
    "gs = open(\"gauss_\"+\"FWHM\"+str(FWHM)+\"_dim\"+str(filter_size)+\".conv\",\"w\")\n",
    "\n",
    "gs.write(\"CONV NORM\"+\"\\n\")\n",
    "\n",
    "\n",
    "\n",
    "for i in full_array:\n",
    "    for j in i:\n",
    "        gs.write(str(\"{0:.8}\".format(str(j*normalization))).ljust(8,\"0\") + \" \")\n",
    "    gs.write(\"\\n\")\n",
    "gs.close()\n",
    "\n",
    "print(np.amax(int_array))"
   ]
  }
 ],
 "metadata": {
  "kernelspec": {
   "display_name": "Python 3",
   "language": "python",
   "name": "python3"
  },
  "language_info": {
   "codemirror_mode": {
    "name": "ipython",
    "version": 3
   },
   "file_extension": ".py",
   "mimetype": "text/x-python",
   "name": "python",
   "nbconvert_exporter": "python",
   "pygments_lexer": "ipython3",
   "version": "3.4.3"
  }
 },
 "nbformat": 4,
 "nbformat_minor": 0
}
